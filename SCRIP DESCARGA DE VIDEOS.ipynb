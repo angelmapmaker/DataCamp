{
 "cells": [
  {
   "cell_type": "code",
   "execution_count": 9,
   "metadata": {},
   "outputs": [],
   "source": [
    "import requests\n",
    "import urllib.request\n",
    "import time\n",
    "from bs4 import BeautifulSoup"
   ]
  },
  {
   "cell_type": "code",
   "execution_count": 14,
   "metadata": {},
   "outputs": [],
   "source": [
    "url2='https://elearning-ministerioshebron.com/course/view.php?id=130'"
   ]
  },
  {
   "cell_type": "code",
   "execution_count": null,
   "metadata": {},
   "outputs": [],
   "source": [
    "r=reuests(url2)\n",
    "html_doc=r.text\n",
    "soup=BeautifulSoup(html_doc)\n",
    "all_links=soup.find_all('a')\n",
    "for link in all_link:\n",
    "    print(link.get('href'))"
   ]
  },
  {
   "cell_type": "code",
   "execution_count": null,
   "metadata": {},
   "outputs": [],
   "source": [
    "url='https://live247tv.com/playlistvideos/secure.php?id=abner152/k_mes-01_v_preescr_lec0'+str(x)+'.mp4/playlist.m3u8'\n"
   ]
  },
  {
   "cell_type": "code",
   "execution_count": 12,
   "metadata": {},
   "outputs": [
    {
     "name": "stdout",
     "output_type": "stream",
     "text": [
      "https://live247tv.com/playlistvideos/secure.php?id=abner152/k_mes-01_v_bbnatsoc_lec01.mp4/playlist.m3u8\n",
      "Biblia Naturaleza y sociedad 01.mp4\n",
      "https://live247tv.com/playlistvideos/secure.php?id=abner152/k_mes-01_v_bbnatsoc_lec02.mp4/playlist.m3u8\n",
      "Biblia Naturaleza y sociedad 02.mp4\n",
      "https://live247tv.com/playlistvideos/secure.php?id=abner152/k_mes-01_v_bbnatsoc_lec03.mp4/playlist.m3u8\n",
      "Biblia Naturaleza y sociedad 03.mp4\n",
      "https://live247tv.com/playlistvideos/secure.php?id=abner152/k_mes-01_v_bbnatsoc_lec04.mp4/playlist.m3u8\n",
      "Biblia Naturaleza y sociedad 04.mp4\n",
      "https://live247tv.com/playlistvideos/secure.php?id=abner152/k_mes-01_v_bbnatsoc_lec05.mp4/playlist.m3u8\n",
      "Biblia Naturaleza y sociedad 05.mp4\n",
      "https://live247tv.com/playlistvideos/secure.php?id=abner152/k_mes-01_v_bbnatsoc_lec06.mp4/playlist.m3u8\n",
      "Biblia Naturaleza y sociedad 06.mp4\n",
      "https://live247tv.com/playlistvideos/secure.php?id=abner152/k_mes-01_v_bbnatsoc_lec07.mp4/playlist.m3u8\n",
      "Biblia Naturaleza y sociedad 07.mp4\n",
      "https://live247tv.com/playlistvideos/secure.php?id=abner152/k_mes-01_v_bbnatsoc_lec08.mp4/playlist.m3u8\n",
      "Biblia Naturaleza y sociedad 08.mp4\n",
      "https://live247tv.com/playlistvideos/secure.php?id=abner152/k_mes-01_v_bbnatsoc_lec09.mp4/playlist.m3u8\n",
      "Biblia Naturaleza y sociedad 09.mp4\n"
     ]
    }
   ],
   "source": [
    "for x in range(1,10):\n",
    "    if len(str(x))==1:\n",
    "        url='https://live247tv.com/playlistvideos/secure.php?id=abner152/k_mes-01_v_bbnatsoc_lec0'+str(x)+'.mp4/playlist.m3u8'\n",
    "        v='Biblia Naturaleza y sociedad 0'+str(x)+'.mp4'\n",
    "        print(url)\n",
    "        print(v)\n",
    "    else:\n",
    "        url='https://live247tv.com/playlistvideos/secure.php?id=abner152/k_mes-01_v_bbnatsoc_lec'+str(x)+'.mp4/playlist.m3u8'\n",
    "        v='Biblia Naturaleza y sociedad '+str(x)+'.mp4'\n",
    "        print(url)\n",
    "        print(v)\n",
    "\n",
    "    chunk_size = 1000\n",
    "    r = requests.get(url, stream=True)\n",
    "    with open(v, \"wb\") as f:\n",
    "        for chunk in r.iter_content(chunk_size=chunk_size):\n",
    "            f.write(chunk)"
   ]
  },
  {
   "cell_type": "code",
   "execution_count": 13,
   "metadata": {},
   "outputs": [
    {
     "name": "stdout",
     "output_type": "stream",
     "text": [
      "https://live247tv.com/playlistvideos/secure.php?id=abner152/k_mes-01_v_mat_lec01.mp4/playlist.m3u8\n",
      "Matematica 01.mp4\n",
      "https://live247tv.com/playlistvideos/secure.php?id=abner152/k_mes-01_v_mat_lec02.mp4/playlist.m3u8\n",
      "Matematica 02.mp4\n",
      "https://live247tv.com/playlistvideos/secure.php?id=abner152/k_mes-01_v_mat_lec03.mp4/playlist.m3u8\n",
      "Matematica 03.mp4\n",
      "https://live247tv.com/playlistvideos/secure.php?id=abner152/k_mes-01_v_mat_lec04.mp4/playlist.m3u8\n",
      "Matematica 04.mp4\n",
      "https://live247tv.com/playlistvideos/secure.php?id=abner152/k_mes-01_v_mat_lec05.mp4/playlist.m3u8\n",
      "Matematica 05.mp4\n",
      "https://live247tv.com/playlistvideos/secure.php?id=abner152/k_mes-01_v_mat_lec06.mp4/playlist.m3u8\n",
      "Matematica 06.mp4\n",
      "https://live247tv.com/playlistvideos/secure.php?id=abner152/k_mes-01_v_mat_lec07.mp4/playlist.m3u8\n",
      "Matematica 07.mp4\n",
      "https://live247tv.com/playlistvideos/secure.php?id=abner152/k_mes-01_v_mat_lec08.mp4/playlist.m3u8\n",
      "Matematica 08.mp4\n",
      "https://live247tv.com/playlistvideos/secure.php?id=abner152/k_mes-01_v_mat_lec09.mp4/playlist.m3u8\n",
      "Matematica 09.mp4\n",
      "https://live247tv.com/playlistvideos/secure.php?id=abner152/k_mes-01_v_mat_lec10.mp4/playlist.m3u8\n",
      "Matematica 10.mp4\n",
      "https://live247tv.com/playlistvideos/secure.php?id=abner152/k_mes-01_v_mat_lec11.mp4/playlist.m3u8\n",
      "Matematica 11.mp4\n",
      "https://live247tv.com/playlistvideos/secure.php?id=abner152/k_mes-01_v_mat_lec12.mp4/playlist.m3u8\n",
      "Matematica 12.mp4\n",
      "https://live247tv.com/playlistvideos/secure.php?id=abner152/k_mes-01_v_mat_lec13.mp4/playlist.m3u8\n",
      "Matematica 13.mp4\n",
      "https://live247tv.com/playlistvideos/secure.php?id=abner152/k_mes-01_v_mat_lec14.mp4/playlist.m3u8\n",
      "Matematica 14.mp4\n",
      "https://live247tv.com/playlistvideos/secure.php?id=abner152/k_mes-01_v_mat_lec15.mp4/playlist.m3u8\n",
      "Matematica 15.mp4\n",
      "https://live247tv.com/playlistvideos/secure.php?id=abner152/k_mes-01_v_mat_lec16.mp4/playlist.m3u8\n",
      "Matematica 16.mp4\n",
      "https://live247tv.com/playlistvideos/secure.php?id=abner152/k_mes-01_v_mat_lec17.mp4/playlist.m3u8\n",
      "Matematica 17.mp4\n",
      "https://live247tv.com/playlistvideos/secure.php?id=abner152/k_mes-01_v_mat_lec18.mp4/playlist.m3u8\n",
      "Matematica 18.mp4\n"
     ]
    }
   ],
   "source": [
    "for x in range(1,19):\n",
    "    if len(str(x))==1:\n",
    "        url='https://live247tv.com/playlistvideos/secure.php?id=abner152/k_mes-01_v_mat_lec0'+str(x)+'.mp4/playlist.m3u8'\n",
    "        v='Matematica 0'+str(x)+'.mp4'\n",
    "        print(url)\n",
    "        print(v)\n",
    "    else:\n",
    "        url='https://live247tv.com/playlistvideos/secure.php?id=abner152/k_mes-01_v_mat_lec'+str(x)+'.mp4/playlist.m3u8'\n",
    "        v='Matematica '+str(x)+'.mp4'\n",
    "        print(url)\n",
    "        print(v)\n",
    "\n",
    "    chunk_size = 1000\n",
    "    r = requests.get(url, stream=True)\n",
    "    with open(v, \"wb\") as f:\n",
    "        for chunk in r.iter_content(chunk_size=chunk_size):\n",
    "            f.write(chunk)"
   ]
  }
 ],
 "metadata": {
  "kernelspec": {
   "display_name": "Python 3",
   "language": "python",
   "name": "python3"
  },
  "language_info": {
   "codemirror_mode": {
    "name": "ipython",
    "version": 3
   },
   "file_extension": ".py",
   "mimetype": "text/x-python",
   "name": "python",
   "nbconvert_exporter": "python",
   "pygments_lexer": "ipython3",
   "version": "3.7.3"
  }
 },
 "nbformat": 4,
 "nbformat_minor": 2
}
